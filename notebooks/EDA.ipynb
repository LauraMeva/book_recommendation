{
 "cells": [
  {
   "cell_type": "code",
   "execution_count": 53,
   "metadata": {},
   "outputs": [],
   "source": [
    "import pandas as pd\n",
    "from collections import Counter\n",
    "import matplotlib.pyplot as plt"
   ]
  },
  {
   "cell_type": "markdown",
   "metadata": {},
   "source": [
    "# Exploratory Analysis"
   ]
  },
  {
   "cell_type": "code",
   "execution_count": 77,
   "metadata": {},
   "outputs": [],
   "source": [
    "df = pd.read_csv('../data/raw/books_dataset.csv')"
   ]
  },
  {
   "cell_type": "code",
   "execution_count": 78,
   "metadata": {},
   "outputs": [
    {
     "data": {
      "text/html": [
       "<div>\n",
       "<style scoped>\n",
       "    .dataframe tbody tr th:only-of-type {\n",
       "        vertical-align: middle;\n",
       "    }\n",
       "\n",
       "    .dataframe tbody tr th {\n",
       "        vertical-align: top;\n",
       "    }\n",
       "\n",
       "    .dataframe thead th {\n",
       "        text-align: right;\n",
       "    }\n",
       "</style>\n",
       "<table border=\"1\" class=\"dataframe\">\n",
       "  <thead>\n",
       "    <tr style=\"text-align: right;\">\n",
       "      <th></th>\n",
       "      <th>book_title</th>\n",
       "      <th>book_authors</th>\n",
       "      <th>book_desc</th>\n",
       "      <th>genres</th>\n",
       "      <th>book_edition</th>\n",
       "      <th>book_pages</th>\n",
       "      <th>book_rating</th>\n",
       "    </tr>\n",
       "  </thead>\n",
       "  <tbody>\n",
       "    <tr>\n",
       "      <th>0</th>\n",
       "      <td>The Hunger Games</td>\n",
       "      <td>Suzanne Collins</td>\n",
       "      <td>Winning will make you famous. Losing means cer...</td>\n",
       "      <td>Young Adult|Fiction|Science Fiction|Dystopia|F...</td>\n",
       "      <td>NaN</td>\n",
       "      <td>374 pages</td>\n",
       "      <td>4.33</td>\n",
       "    </tr>\n",
       "    <tr>\n",
       "      <th>1</th>\n",
       "      <td>Harry Potter and the Order of the Phoenix</td>\n",
       "      <td>J.K. Rowling|Mary GrandPré</td>\n",
       "      <td>There is a door at the end of a silent corrido...</td>\n",
       "      <td>Fantasy|Young Adult|Fiction</td>\n",
       "      <td>US Edition</td>\n",
       "      <td>870 pages</td>\n",
       "      <td>4.48</td>\n",
       "    </tr>\n",
       "    <tr>\n",
       "      <th>2</th>\n",
       "      <td>To Kill a Mockingbird</td>\n",
       "      <td>Harper Lee</td>\n",
       "      <td>The unforgettable novel of a childhood in a sl...</td>\n",
       "      <td>Classics|Fiction|Historical|Historical Fiction...</td>\n",
       "      <td>50th Anniversary</td>\n",
       "      <td>324 pages</td>\n",
       "      <td>4.27</td>\n",
       "    </tr>\n",
       "    <tr>\n",
       "      <th>3</th>\n",
       "      <td>Pride and Prejudice</td>\n",
       "      <td>Jane Austen|Anna Quindlen|Mrs. Oliphant|George...</td>\n",
       "      <td>«È cosa ormai risaputa che a uno scapolo in po...</td>\n",
       "      <td>Classics|Fiction|Romance</td>\n",
       "      <td>Modern Library Classics, USA / CAN</td>\n",
       "      <td>279 pages</td>\n",
       "      <td>4.25</td>\n",
       "    </tr>\n",
       "    <tr>\n",
       "      <th>4</th>\n",
       "      <td>Twilight</td>\n",
       "      <td>Stephenie Meyer</td>\n",
       "      <td>About three things I was absolutely positive.F...</td>\n",
       "      <td>Young Adult|Fantasy|Romance|Paranormal|Vampire...</td>\n",
       "      <td>NaN</td>\n",
       "      <td>498 pages</td>\n",
       "      <td>3.58</td>\n",
       "    </tr>\n",
       "  </tbody>\n",
       "</table>\n",
       "</div>"
      ],
      "text/plain": [
       "                                  book_title  \\\n",
       "0                           The Hunger Games   \n",
       "1  Harry Potter and the Order of the Phoenix   \n",
       "2                      To Kill a Mockingbird   \n",
       "3                        Pride and Prejudice   \n",
       "4                                   Twilight   \n",
       "\n",
       "                                        book_authors  \\\n",
       "0                                    Suzanne Collins   \n",
       "1                         J.K. Rowling|Mary GrandPré   \n",
       "2                                         Harper Lee   \n",
       "3  Jane Austen|Anna Quindlen|Mrs. Oliphant|George...   \n",
       "4                                    Stephenie Meyer   \n",
       "\n",
       "                                           book_desc  \\\n",
       "0  Winning will make you famous. Losing means cer...   \n",
       "1  There is a door at the end of a silent corrido...   \n",
       "2  The unforgettable novel of a childhood in a sl...   \n",
       "3  «È cosa ormai risaputa che a uno scapolo in po...   \n",
       "4  About three things I was absolutely positive.F...   \n",
       "\n",
       "                                              genres  \\\n",
       "0  Young Adult|Fiction|Science Fiction|Dystopia|F...   \n",
       "1                        Fantasy|Young Adult|Fiction   \n",
       "2  Classics|Fiction|Historical|Historical Fiction...   \n",
       "3                           Classics|Fiction|Romance   \n",
       "4  Young Adult|Fantasy|Romance|Paranormal|Vampire...   \n",
       "\n",
       "                         book_edition book_pages  book_rating  \n",
       "0                                 NaN  374 pages         4.33  \n",
       "1                          US Edition  870 pages         4.48  \n",
       "2                    50th Anniversary  324 pages         4.27  \n",
       "3  Modern Library Classics, USA / CAN  279 pages         4.25  \n",
       "4                                 NaN  498 pages         3.58  "
      ]
     },
     "execution_count": 78,
     "metadata": {},
     "output_type": "execute_result"
    }
   ],
   "source": [
    "df.head()"
   ]
  },
  {
   "cell_type": "code",
   "execution_count": 79,
   "metadata": {},
   "outputs": [
    {
     "name": "stdout",
     "output_type": "stream",
     "text": [
      "Shape: (55442, 7)\n"
     ]
    }
   ],
   "source": [
    "print(\"Shape:\", df.shape)"
   ]
  },
  {
   "cell_type": "code",
   "execution_count": 80,
   "metadata": {},
   "outputs": [
    {
     "name": "stdout",
     "output_type": "stream",
     "text": [
      "Nulls percentage:\n",
      "book_title       0.00\n",
      "book_authors     0.00\n",
      "book_desc        2.41\n",
      "genres           5.87\n",
      "book_edition    89.98\n",
      "book_pages       4.68\n",
      "book_rating      0.00\n",
      "dtype: float64\n"
     ]
    }
   ],
   "source": [
    "print(\"Nulls percentage:\")\n",
    "print((100 * df.isnull().sum() / df.shape[0]).round(2))"
   ]
  },
  {
   "cell_type": "code",
   "execution_count": 81,
   "metadata": {},
   "outputs": [
    {
     "name": "stdout",
     "output_type": "stream",
     "text": [
      "Duplicated rows: 104\n"
     ]
    }
   ],
   "source": [
    "print(\"Duplicated rows:\", df.duplicated().sum())\n",
    "\n",
    "# Remove duplicated rows\n",
    "df = df.drop_duplicates()"
   ]
  },
  {
   "cell_type": "markdown",
   "metadata": {},
   "source": [
    "## Categorical columns"
   ]
  },
  {
   "cell_type": "code",
   "execution_count": 82,
   "metadata": {},
   "outputs": [
    {
     "name": "stdout",
     "output_type": "stream",
     "text": [
      "Unique books: 49461\n",
      "\n",
      "Most repeated books:\n",
      " book_title\n",
      "1984                 16\n",
      "Selected Poems       14\n",
      "Inferno              13\n",
      "Broken               13\n",
      "The Hobbit           13\n",
      "A Christmas Carol    13\n",
      "American Gods        13\n",
      "Jane Eyre            11\n",
      "Hamlet               11\n",
      "Fahrenheit 451       11\n",
      "Name: count, dtype: int64\n"
     ]
    }
   ],
   "source": [
    "print(\"Unique books:\", df['book_title'].nunique())\n",
    "print(\"\\nMost repeated books:\\n\", df['book_title'].value_counts().head(10))"
   ]
  },
  {
   "cell_type": "code",
   "execution_count": 83,
   "metadata": {},
   "outputs": [
    {
     "name": "stdout",
     "output_type": "stream",
     "text": [
      "Average number of authors per book: 1.35\n"
     ]
    }
   ],
   "source": [
    "df['num_authors'] = df['book_authors'].str.split('|').apply(len)\n",
    "print(f\"Average number of authors per book: {df['num_authors'].mean():.2f}\")"
   ]
  },
  {
   "cell_type": "code",
   "execution_count": 84,
   "metadata": {},
   "outputs": [
    {
     "name": "stdout",
     "output_type": "stream",
     "text": [
      "There are 869 unique generes.\n",
      "\n",
      "Most common genres:\n",
      "Fiction: 26479 (8.57%)\n",
      "Fantasy: 24022 (7.77%)\n",
      "Romance: 19313 (6.25%)\n",
      "Young Adult: 11516 (3.73%)\n",
      "Historical: 11140 (3.60%)\n",
      "Mystery: 8279 (2.68%)\n",
      "Paranormal: 8094 (2.62%)\n",
      "Nonfiction: 7859 (2.54%)\n",
      "Science Fiction: 6929 (2.24%)\n",
      "Historical Fiction: 6591 (2.13%)\n"
     ]
    }
   ],
   "source": [
    "df['genres'] = df['genres'].fillna('')\n",
    "unique_genres = set(genre for genres in df['genres'] for genre in genres.split('|'))\n",
    "print(f\"There are {len(unique_genres)} unique generes.\")\n",
    "\n",
    "genre_counter = Counter(genre for genres in df['genres'] for genre in genres.split('|'))\n",
    "total_genres = sum(genre_counter.values())\n",
    "most_common_genres = [(genre, count, (count / total_genres) * 100) for genre, count in genre_counter.most_common(10)]\n",
    "print(\"\\nMost common genres:\")\n",
    "for genre, count, percentage in most_common_genres:\n",
    "    print(f\"{genre}: {count} ({percentage:.2f}%)\")"
   ]
  },
  {
   "cell_type": "markdown",
   "metadata": {},
   "source": [
    "## Numerical columns"
   ]
  },
  {
   "cell_type": "code",
   "execution_count": 85,
   "metadata": {},
   "outputs": [],
   "source": [
    "df.drop(columns=['num_authors'], inplace=True)"
   ]
  },
  {
   "cell_type": "code",
   "execution_count": null,
   "metadata": {},
   "outputs": [],
   "source": [
    "df['book_pages'] = df['book_pages'].str.extract('(\\d+)').astype(float)"
   ]
  },
  {
   "cell_type": "code",
   "execution_count": 87,
   "metadata": {},
   "outputs": [
    {
     "name": "stdout",
     "output_type": "stream",
     "text": [
      "         book_pages   book_rating\n",
      "count  52748.000000  55338.000000\n",
      "mean     337.398062      4.020030\n",
      "std      257.413896      0.361633\n",
      "min        0.000000      0.000000\n",
      "25%      218.000000      3.820000\n",
      "50%      310.000000      4.030000\n",
      "75%      400.000000      4.220000\n",
      "max    14777.000000      5.000000\n"
     ]
    }
   ],
   "source": [
    "print(df.describe())"
   ]
  },
  {
   "cell_type": "code",
   "execution_count": 95,
   "metadata": {},
   "outputs": [
    {
     "data": {
      "image/png": "[encoded data removed]",
      "text/plain": [
       "<Figure size 1200x500 with 2 Axes>"
      ]
     },
     "metadata": {},
     "output_type": "display_data"
    }
   ],
   "source": [
    "# Filter data to cut page numbers and ratings\n",
    "filtered_pages = df['book_pages'].dropna()[df['book_pages'] <= 2000]\n",
    "filtered_ratings = df['book_rating'].dropna()[(df['book_rating'] >= 2) & (df['book_rating'] <= 5)]\n",
    "\n",
    "fig, axes = plt.subplots(1, 2, figsize=(12, 5), dpi=100)\n",
    "\n",
    "# Plot book_pages distribution\n",
    "axes[0].hist(filtered_pages, bins=30, edgecolor='black')\n",
    "axes[0].set_title(\"Distribution of Book Pages (<= 2000)\")\n",
    "axes[0].set_xlabel(\"Number of Pages\")\n",
    "axes[0].set_ylabel(\"Frequency\")\n",
    "\n",
    "# Plot book_rating distribution\n",
    "axes[1].hist(filtered_ratings, bins=20, edgecolor='black', color='orange')\n",
    "axes[1].set_title(\"Distribution of Book Ratings (2 to 5)\")\n",
    "axes[1].set_xlabel(\"Rating\")\n",
    "axes[1].set_ylabel(\"Frequency\")\n",
    "\n",
    "plt.tight_layout()\n",
    "plt.show()"
   ]
  },
  {
   "cell_type": "markdown",
   "metadata": {},
   "source": [
    "## Insights\n",
    "- Data preprocessing is required before proceeding with any analysis or model building.\n",
    "- Observations from the dataset:\n",
    "    - There are duplicate entries that need to be handled.\n",
    "    - Some columns contain null values.\n",
    "    - Repeated book titles are present, which might lead to inconsistencies.\n",
    "    - Book descriptions are in multiple languages, which requires standardization.\n",
    "    - Unusual characters are present in some fields, which need to be cleaned or replaced.\n",
    "- The dataset will be cleaned and simplified to ensure the book recommender is easy to implement and efficient."
   ]
  }
 ],
 "metadata": {
  "kernelspec": {
   "display_name": "env",
   "language": "python",
   "name": "python3"
  },
  "language_info": {
   "codemirror_mode": {
    "name": "ipython",
    "version": 3
   },
   "file_extension": ".py",
   "mimetype": "text/x-python",
   "name": "python",
   "nbconvert_exporter": "python",
   "pygments_lexer": "ipython3",
   "version": "3.9.19"
  }
 },
 "nbformat": 4,
 "nbformat_minor": 2
}
